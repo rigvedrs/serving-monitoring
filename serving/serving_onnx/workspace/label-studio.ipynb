{
 "cells": [
  {
   "cell_type": "code",
   "execution_count": 5,
   "id": "90bdfdef-a221-48c3-a0ef-9406efc57132",
   "metadata": {},
   "outputs": [
    {
     "name": "stdout",
     "output_type": "stream",
     "text": [
      "Requirement already satisfied: boto3 in /opt/conda/lib/python3.12/site-packages (1.38.13)\n",
      "Requirement already satisfied: botocore<1.39.0,>=1.38.13 in /opt/conda/lib/python3.12/site-packages (from boto3) (1.38.13)\n",
      "Requirement already satisfied: jmespath<2.0.0,>=0.7.1 in /opt/conda/lib/python3.12/site-packages (from boto3) (1.0.1)\n",
      "Requirement already satisfied: s3transfer<0.13.0,>=0.12.0 in /opt/conda/lib/python3.12/site-packages (from boto3) (0.12.0)\n",
      "Requirement already satisfied: python-dateutil<3.0.0,>=2.1 in /opt/conda/lib/python3.12/site-packages (from botocore<1.39.0,>=1.38.13->boto3) (2.9.0.post0)\n",
      "Requirement already satisfied: urllib3!=2.2.0,<3,>=1.25.4 in /opt/conda/lib/python3.12/site-packages (from botocore<1.39.0,>=1.38.13->boto3) (2.4.0)\n",
      "Requirement already satisfied: six>=1.5 in /opt/conda/lib/python3.12/site-packages (from python-dateutil<3.0.0,>=2.1->botocore<1.39.0,>=1.38.13->boto3) (1.17.0)\n"
     ]
    }
   ],
   "source": [
    "!pip install boto3"
   ]
  },
  {
   "cell_type": "code",
   "execution_count": 6,
   "id": "61d00548-216c-464d-a090-e6147f91be51",
   "metadata": {},
   "outputs": [],
   "source": [
    "import requests\n",
    "import boto3\n",
    "import os\n",
    "import random\n",
    "from datetime import datetime, timezone, timedelta"
   ]
  },
  {
   "cell_type": "code",
   "execution_count": 45,
   "id": "e0898408-ac29-41a4-96d0-78c127fe2224",
   "metadata": {},
   "outputs": [],
   "source": [
    "LABEL_STUDIO_URL=\"http://label-studio:8080\"\n",
    "LABEL_STUDIO_TOKEN=\"ab9927067c51ff279d340d7321e4890dc2841c4a\"\n",
    "MINIO_URL=\"http://minio:9000\"\n",
    "MINIO_ACCESS_KEY =\"PROSadmin19\"\n",
    "MINIO_SECRET_KEY = MINIO_ROOT_PASSWORD=\"PROSadmin19\"\n",
    "BUCKET_NAME = \"production\"\n",
    "PUBLIC_IP = \"129.114.26.168\""
   ]
  },
  {
   "cell_type": "code",
   "execution_count": 63,
   "id": "2bdaa0ea-5276-4447-96ea-9f90256d9700",
   "metadata": {},
   "outputs": [
    {
     "data": {
      "text/plain": [
       "{'type': 's3',\n",
       " 'title': 'MinIO',\n",
       " 'bucket': 'production',\n",
       " 'aws_access_key_id': 'PROSadmin19',\n",
       " 'aws_secret_access_key': 'PROSadmin19',\n",
       " 'endpoint_url': 'http://129.114.26.168:9000',\n",
       " 'recursive_scan': True,\n",
       " 'treat_every_object_as_file': True}"
      ]
     },
     "execution_count": 63,
     "metadata": {},
     "output_type": "execute_result"
    }
   ],
   "source": [
    "# Connect project to MinIO storage\n",
    "storage_config = {\n",
    "    # \"project\": PROJECT_ID,\n",
    "    \"type\": \"s3\",\n",
    "    \"title\": \"MinIO\",\n",
    "    \"bucket\": BUCKET_NAME,\n",
    "    \"aws_access_key_id\": MINIO_ACCESS_KEY,\n",
    "    \"aws_secret_access_key\": MINIO_SECRET_KEY,\n",
    "    \"endpoint_url\": f\"http://{PUBLIC_IP}:9000\",  # Using public IP\n",
    "    \"recursive_scan\": True,\n",
    "    \"treat_every_object_as_file\": True\n",
    "}\n",
    "\n",
    "storage_config"
   ]
  },
  {
   "cell_type": "code",
   "execution_count": null,
   "id": "0e7e2710-1145-4514-8e84-53163f15c31e",
   "metadata": {},
   "outputs": [],
   "source": [
    "# Labeling interface configuration\n",
    "LABEL_CONFIG = \"\"\"\n",
    "<View>\n",
    "  <View style=\"display:flex;align-items:start;gap:8px;flex-direction:column-reverse\"><Image name=\"image\" value=\"$image\" maxWidth=\"800px\" zoom=\"true\" zoomControl=\"true\"/><RectangleLabels name=\"label\" toName=\"image\" showInline=\"true\">\n",
    "    <Label value=\"0\" background=\"#FFA39E\"/>\n",
    "    <Label value=\"1\" background=\"#D4380D\"/>\n",
    "    <Label value=\"2\" background=\"#FFC069\"/>\n",
    "    <Label value=\"3\" background=\"#AD8B00\"/>\n",
    "    <Label value=\"4\" background=\"#D3F261\"/>\n",
    "    <Label value=\"5\" background=\"#389E0D\"/>\n",
    "    <Label value=\"6\" background=\"#5CDBD3\"/>\n",
    "    <Label value=\"7\" background=\"#096DD9\"/>\n",
    "    <Label value=\"8\" background=\"#ADC6FF\"/>\n",
    "    <Label value=\"9\" background=\"#9254DE\"/>\n",
    "    <Label value=\"10\" background=\"#F759AB\"/>\n",
    "    <Label value=\"11\" background=\"#FFA39E\"/>\n",
    "    <Label value=\"12\" background=\"#D4380D\"/>\n",
    "    <Label value=\"13\" background=\"#FFC069\"/>\n",
    "  </RectangleLabels></View>\n",
    "  <Header value=\"Model Confidence: $confidence\"/>\n",
    "  <Header value=\"Predicted Class: $predicted_class\"/>\n",
    "  \n",
    "</View>\n",
    "\"\"\""
   ]
  },
  {
   "cell_type": "code",
   "execution_count": 64,
   "id": "f1a9665a-1c22-4759-bf50-f6ba19e04596",
   "metadata": {},
   "outputs": [],
   "source": [
    "# Get the public IP of your VM (needed for pre-signed URLs)\n",
    "public_ip = PUBLIC_IP\n",
    "\n",
    "# Initialize MinIO client\n",
    "s3 = boto3.client(\n",
    "    \"s3\",\n",
    "    endpoint_url=f\"http://{public_ip}:9000\",  # Use public IP for external access\n",
    "    aws_access_key_id=MINIO_ACCESS_KEY,\n",
    "    aws_secret_access_key=MINIO_SECRET_KEY,\n",
    "    region_name=\"us-east-1\"\n",
    ")"
   ]
  },
  {
   "cell_type": "markdown",
   "id": "5665f7d3-afa4-414f-ae7c-ee5fce9de8f0",
   "metadata": {},
   "source": [
    "# Create Project - Low Confidence"
   ]
  },
  {
   "cell_type": "code",
   "execution_count": 49,
   "id": "1df359e2-ab5f-4609-8c4b-20eda3949ecb",
   "metadata": {},
   "outputs": [
    {
     "name": "stdout",
     "output_type": "stream",
     "text": [
      "Created project: Chest X-Ray Low Confidence (ID 2)\n"
     ]
    }
   ],
   "source": [
    "# Create the Label Studio project\n",
    "headers = {\"Authorization\": f\"Token {LABEL_STUDIO_TOKEN}\"}\n",
    "project_config = {\n",
    "    \"title\": \"Chest X-Ray Low Confidence\",\n",
    "    \"description\": \"Label chest X-ray images where the model has low confidence\",\n",
    "    \"label_config\": LABEL_CONFIG\n",
    "}\n",
    "\n",
    "res = requests.post(f\"{LABEL_STUDIO_URL}/api/projects\", json=project_config, headers=headers)\n",
    "if res.status_code == 201:\n",
    "    LC_PROJECT_ID = res.json()['id']\n",
    "    print(f\"Created project: Chest X-Ray Low Confidence (ID {LC_PROJECT_ID})\")\n",
    "else:\n",
    "    raise Exception(f\"Failed to create project: {res.text}\")"
   ]
  },
  {
   "cell_type": "markdown",
   "id": "0334b0c1-779f-4a28-acd1-340113a6c48c",
   "metadata": {},
   "source": [
    "## Add Low Confidence Images"
   ]
  },
  {
   "cell_type": "code",
   "execution_count": 66,
   "id": "66f9b0f8-5505-4dde-9ebd-49e45fd9fb92",
   "metadata": {},
   "outputs": [
    {
     "name": "stdout",
     "output_type": "stream",
     "text": [
      "Found 9 low-confidence images:\n",
      "{'key': 'class_class2/0c5312c5-e3da-41de-9a33-12d503142cd5.jpg', 'confidence': '0.938', 'predicted_class': 'class2'}\n",
      "{'key': 'class_class2/247ff5b0-94ce-48ea-b991-263ec6c45cef.jpg', 'confidence': '0.938', 'predicted_class': 'class2'}\n",
      "{'key': 'class_class2/30f525b0-6db8-4a6f-83a3-2153138d8730.jpg', 'confidence': '0.938', 'predicted_class': 'class2'}\n",
      "{'key': 'class_class2/3be42a82-7b51-4d74-a883-ddaba216ec86.jpg', 'confidence': '0.938', 'predicted_class': 'class2'}\n",
      "{'key': 'class_class2/80dd93d9-d009-4db0-9a11-2cb713233ac0.jpg', 'confidence': '0.938', 'predicted_class': 'class2'}\n",
      "{'key': 'class_class2/82838353-2bfa-4530-afad-94af3c0a9697.jpg', 'confidence': '0.938', 'predicted_class': 'class2'}\n",
      "{'key': 'class_class2/92506c44-3918-43e7-ab93-719b4baa9b19.jpg', 'confidence': '0.938', 'predicted_class': 'class2'}\n",
      "{'key': 'class_class2/b780b884-4d6b-449c-9b6b-f4efe3f6dfce.jpg', 'confidence': '0.938', 'predicted_class': 'class2'}\n",
      "{'key': 'class_class2/c6e30db9-0232-4c38-a595-4b2e335a6dc2.jpg', 'confidence': '0.938', 'predicted_class': 'class2'}\n",
      "Imported 9 tasks into project 2\n"
     ]
    }
   ],
   "source": [
    "# Find low-confidence images\n",
    "low_confidence_threshold = 0.95  # Images with confidence below this\n",
    "recent_time_threshold = datetime.now(timezone.utc) - timedelta(hours=12)  # Images from last 12 hours\n",
    "all_keys = []\n",
    "\n",
    "paginator = s3.get_paginator(\"list_objects_v2\")\n",
    "for page in paginator.paginate(Bucket=BUCKET_NAME):\n",
    "    for obj in page.get(\"Contents\", []):\n",
    "        key = obj[\"Key\"]\n",
    "        tags = s3.get_object_tagging(Bucket=BUCKET_NAME, Key=key)['TagSet']\n",
    "        tag_dict = {t['Key']: t['Value'] for t in tags}\n",
    "        timestamp_str = tag_dict.get(\"timestamp\")\n",
    "        confidence_str = tag_dict.get(\"confidence\")\n",
    "        predicted_class = tag_dict.get(\"predicted_class\", \"\")\n",
    "        if timestamp_str and confidence_str:\n",
    "            ts = datetime.fromisoformat(timestamp_str)\n",
    "            confidence = float(confidence_str)\n",
    "            if ts > recent_time_threshold and confidence < low_confidence_threshold:\n",
    "                all_keys.append({\n",
    "                    \"key\": key,\n",
    "                    \"confidence\": confidence_str,\n",
    "                    \"predicted_class\": predicted_class\n",
    "                })\n",
    "\n",
    "# Check if we found any low-confidence images\n",
    "print(f\"Found {len(all_keys)} low-confidence images:\")\n",
    "for item in all_keys:\n",
    "    print(item)\n",
    "\n",
    "# Create Label Studio tasks\n",
    "headers = {\"Authorization\": f\"Token {LABEL_STUDIO_TOKEN}\"}\n",
    "tasks = []\n",
    "for item in all_keys:\n",
    "    key = item[\"key\"]\n",
    "    confidence = item[\"confidence\"]\n",
    "    predicted_class = item[\"predicted_class\"]\n",
    "    presigned_url = s3.generate_presigned_url(\n",
    "        'get_object',\n",
    "        Params={'Bucket': BUCKET_NAME, 'Key': key},\n",
    "        ExpiresIn=3600  # URL valid for 1 hour\n",
    "    )\n",
    "    tasks.append({\n",
    "        \"data\": {\n",
    "            \"image\": presigned_url,\n",
    "            \"confidence\": confidence,\n",
    "            \"predicted_class\": predicted_class\n",
    "        },\n",
    "        \"meta\": {\"original_key\": key}\n",
    "    })\n",
    "\n",
    "# Send tasks to Label Studio\n",
    "res = requests.post(\n",
    "    f\"{LABEL_STUDIO_URL}/api/projects/{LC_PROJECT_ID}/import\",\n",
    "    json=tasks,\n",
    "    headers=headers\n",
    ")\n",
    "if res.status_code == 201:\n",
    "    print(f\"Imported {len(tasks)} tasks into project {LC_PROJECT_ID}\")\n",
    "else:\n",
    "    print(f\"Failed to import tasks: {res.text}\")"
   ]
  },
  {
   "cell_type": "markdown",
   "id": "503f9d1f-f9c4-48a9-8744-1062c22608a9",
   "metadata": {},
   "source": [
    "# Create Project 2 - Feedback Images"
   ]
  },
  {
   "cell_type": "code",
   "execution_count": 69,
   "id": "33fe3769-91f3-4935-ab26-20588a08695a",
   "metadata": {},
   "outputs": [
    {
     "name": "stdout",
     "output_type": "stream",
     "text": [
      "Created project: Chest X-Ray Fedback Images (ID 3)\n"
     ]
    }
   ],
   "source": [
    "# Create the Label Studio project\n",
    "headers = {\"Authorization\": f\"Token {LABEL_STUDIO_TOKEN}\"}\n",
    "project_config = {\n",
    "    \"title\": \"Chest X-Ray Fedback Images\",\n",
    "    \"description\": \"Label chest X-ray images where the model has low confidence\",\n",
    "    \"label_config\": LABEL_CONFIG\n",
    "}\n",
    "\n",
    "res = requests.post(f\"{LABEL_STUDIO_URL}/api/projects\", json=project_config, headers=headers)\n",
    "if res.status_code == 201:\n",
    "    FI_PROJECT_ID = res.json()['id']\n",
    "    print(f\"Created project: Chest X-Ray Fedback Images (ID {FI_PROJECT_ID})\")\n",
    "else:\n",
    "    raise Exception(f\"Failed to create project: {res.text}\")"
   ]
  },
  {
   "cell_type": "markdown",
   "id": "7e50adab-e197-44f3-92f0-d9db062aa7d2",
   "metadata": {},
   "source": [
    "## Add Feedback Images"
   ]
  },
  {
   "cell_type": "code",
   "execution_count": 70,
   "id": "5c197187-f38e-4b85-b594-0b9dcb5d96bb",
   "metadata": {},
   "outputs": [
    {
     "name": "stdout",
     "output_type": "stream",
     "text": [
      "Found 5 flagged images:\n",
      "{'key': 'class_class2/0c82a178-1e9c-4ad6-9adc-bdf350057e8f.jpg', 'confidence': '0.938', 'predicted_class': 'class2', 'flagged': 'true'}\n",
      "{'key': 'class_class2/1e58ba88-a5bd-4105-a66f-e8ed81e34712.jpg', 'confidence': '0.938', 'predicted_class': 'class2', 'flagged': 'true'}\n",
      "{'key': 'class_class2/2c21d280-e47a-4a44-bfcd-06d39ecf64d2.jpg', 'confidence': '0.938', 'predicted_class': 'class2', 'flagged': 'true'}\n",
      "{'key': 'class_class2/87e4dac7-d5a2-483a-b78b-b43daedd3c0e.jpg', 'confidence': '0.938', 'predicted_class': 'class2', 'flagged': 'true'}\n",
      "{'key': 'class_class2/df2d0522-b588-44d5-a254-f1e16ebfb3cf.jpg', 'confidence': '0.938', 'predicted_class': 'class2', 'flagged': 'true'}\n",
      "Imported 5 tasks into project 3\n"
     ]
    }
   ],
   "source": [
    "# Find flagged images\n",
    "recent_time_threshold = datetime.now(timezone.utc) - timedelta(hours=12)\n",
    "all_keys = []\n",
    "\n",
    "paginator = s3.get_paginator(\"list_objects_v2\")\n",
    "for page in paginator.paginate(Bucket=BUCKET_NAME):\n",
    "    for obj in page.get(\"Contents\", []):\n",
    "        key = obj[\"Key\"]\n",
    "        tags = s3.get_object_tagging(Bucket=BUCKET_NAME, Key=key)['TagSet']\n",
    "        tag_dict = {t['Key']: t['Value'] for t in tags}\n",
    "        timestamp_str = tag_dict.get(\"timestamp\")\n",
    "        flagged = tag_dict.get(\"flagged\") == \"true\"\n",
    "        if timestamp_str and flagged:\n",
    "            ts = datetime.fromisoformat(timestamp_str)\n",
    "            if ts > recent_time_threshold:\n",
    "                all_keys.append({\n",
    "                    \"key\": key,\n",
    "                    \"confidence\": tag_dict.get(\"confidence\", \"\"),\n",
    "                    \"predicted_class\": tag_dict.get(\"predicted_class\", \"\"),\n",
    "                    \"flagged\": tag_dict.get(\"flagged\", \"false\")\n",
    "                })\n",
    "\n",
    "print(f\"Found {len(all_keys)} flagged images:\")\n",
    "for item in all_keys:\n",
    "    print(item)\n",
    "\n",
    "# Create Label Studio tasks\n",
    "headers = {\"Authorization\": f\"Token {LABEL_STUDIO_TOKEN}\"}\n",
    "tasks = []\n",
    "for item in all_keys:\n",
    "    key = item[\"key\"]\n",
    "    confidence = item[\"confidence\"]\n",
    "    predicted_class = item[\"predicted_class\"]\n",
    "    presigned_url = s3.generate_presigned_url(\n",
    "        'get_object',\n",
    "        Params={'Bucket': BUCKET_NAME, 'Key': key},\n",
    "        ExpiresIn=3600\n",
    "    )\n",
    "    tasks.append({\n",
    "        \"data\": {\n",
    "            \"image\": presigned_url,\n",
    "            \"confidence\": confidence,\n",
    "            \"predicted_class\": predicted_class,\n",
    "            \"flagged\": item[\"flagged\"]\n",
    "        },\n",
    "        \"meta\": {\"original_key\": key}\n",
    "    })\n",
    "\n",
    "res = requests.post(\n",
    "    f\"{LABEL_STUDIO_URL}/api/projects/{FI_PROJECT_ID}/import\",\n",
    "    json=tasks,\n",
    "    headers=headers\n",
    ")\n",
    "if res.status_code == 201:\n",
    "    print(f\"Imported {len(tasks)} tasks into project {FI_PROJECT_ID}\")\n",
    "else:\n",
    "    print(f\"Failed to import tasks: {res.text}\")"
   ]
  },
  {
   "cell_type": "markdown",
   "id": "a9f9ff43-fde0-4bee-aef0-2f8a070c6139",
   "metadata": {},
   "source": [
    "# Evaluate Performance - Low Confidence"
   ]
  },
  {
   "cell_type": "code",
   "execution_count": null,
   "id": "d1b9597a-d47a-4224-87af-50244782d30e",
   "metadata": {},
   "outputs": [],
   "source": [
    "# Get human labels from Label Studio\n",
    "response = requests.get(\n",
    "    f\"{LABEL_STUDIO_URL}/api/projects/{LC_PROJECT_ID}/export?exportType=JSON\",\n",
    "    headers={\"Authorization\": f\"Token {LABEL_STUDIO_TOKEN}\"}\n",
    ")\n",
    "tasks = response.json()\n",
    "\n",
    "# Compare with model predictions\n",
    "total, correct = 0, 0\n",
    "for task in tasks:\n",
    "    human_label = task['annotations'][0]['result'][0]['value']['choices'][0]\n",
    "    key = task['meta']['original_key']\n",
    "    tags = s3.get_object_tagging(Bucket=BUCKET_NAME, Key=key)['TagSet']\n",
    "    model_label = {t['Key']: t['Value'] for t in tags}.get('predicted_class')\n",
    "    if model_label and human_label:\n",
    "        total += 1\n",
    "        correct += int(model_label == human_label)\n",
    "\n",
    "print(f\"Accuracy: {correct}/{total} = {correct / total:.2%}\" if total else \"No valid comparisons.\")"
   ]
  },
  {
   "cell_type": "markdown",
   "id": "8db193f0-2695-4893-8361-60988ebac17a",
   "metadata": {},
   "source": [
    "# Evaluate Performance - Flagged Images"
   ]
  },
  {
   "cell_type": "code",
   "execution_count": 71,
   "id": "1f9bd539-4109-4381-9392-02845a3bd4ed",
   "metadata": {},
   "outputs": [
    {
     "name": "stdout",
     "output_type": "stream",
     "text": [
      "No valid comparisons.\n"
     ]
    }
   ],
   "source": [
    "# Get human labels from Label Studio\n",
    "response = requests.get(\n",
    "    f\"{LABEL_STUDIO_URL}/api/projects/{FI_PROJECT_ID}/export?exportType=JSON\",\n",
    "    headers={\"Authorization\": f\"Token {LABEL_STUDIO_TOKEN}\"}\n",
    ")\n",
    "tasks = response.json()\n",
    "\n",
    "# Compare with model predictions\n",
    "total, correct = 0, 0\n",
    "for task in tasks:\n",
    "    human_label = task['annotations'][0]['result'][0]['value']['choices'][0]\n",
    "    key = task['meta']['original_key']\n",
    "    tags = s3.get_object_tagging(Bucket=BUCKET_NAME, Key=key)['TagSet']\n",
    "    model_label = {t['Key']: t['Value'] for t in tags}.get('predicted_class')\n",
    "    if model_label and human_label:\n",
    "        total += 1\n",
    "        correct += int(model_label == human_label)\n",
    "\n",
    "print(f\"Accuracy: {correct}/{total} = {correct / total:.2%}\" if total else \"No valid comparisons.\")"
   ]
  },
  {
   "cell_type": "code",
   "execution_count": null,
   "id": "34970c5e-b06d-4125-8465-56c02434e9da",
   "metadata": {},
   "outputs": [],
   "source": []
  }
 ],
 "metadata": {
  "kernelspec": {
   "display_name": "Python 3 (ipykernel)",
   "language": "python",
   "name": "python3"
  },
  "language_info": {
   "codemirror_mode": {
    "name": "ipython",
    "version": 3
   },
   "file_extension": ".py",
   "mimetype": "text/x-python",
   "name": "python",
   "nbconvert_exporter": "python",
   "pygments_lexer": "ipython3",
   "version": "3.12.10"
  }
 },
 "nbformat": 4,
 "nbformat_minor": 5
}
